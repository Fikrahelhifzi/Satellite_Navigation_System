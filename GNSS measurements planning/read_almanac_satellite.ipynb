{
 "cells": [
  {
   "cell_type": "code",
   "execution_count": null,
   "metadata": {},
   "outputs": [],
   "source": [
    "import datetime\n",
    "import numpy as np\n",
    "import pandas as pd\n",
    "import os\n",
    "import math\n",
    "\n",
    "almanac_file = 'almanac.yuma.week0131.319488.txt'\n",
    "\n",
    "MU = 3.986004415e14 # Product of the mass of the earth where gravitation is constant\n",
    "omge  = 7.2921151467e-5    # Spead of the rotation of the earth or angular velocity\n",
    "a = 6378137\n",
    "e2 = 0.00669438002290\n",
    "\n",
    "def read_yuma (almanac_file):\n",
    "    with open (almanac_file,'r') as f:\n",
    "        alm_lines = f.readlines()\n",
    "        all_sats = []\n",
    "        for idx,value in enumerate(alm_lines):\n",
    "            if value[0:3] =='ID:':\n",
    "                one_sat_block = alm_lines[idx:idx+13]\n",
    "                one_sat = []\n",
    "                for line in one_sat_block:\n",
    "                    data = line.split(':')\n",
    "                    one_sat.append(float(data[1].strip()))\n",
    "                all_sats.append(one_sat)\n",
    "    \n",
    "    almanac_numpy = np.array(all_sats).T\n",
    "    pd.set_option('precision', 14)\n",
    "    a = {'ID' : pd.Series(np.array(almanac_numpy[0],dtype =np.float64)),\n",
    "         'Health' : pd.Series(np.array(almanac_numpy[1],dtype =np.float64)),\n",
    "         'Eccentricity' :pd.Series(np.array(almanac_numpy[2],dtype =np.float64)),\n",
    "         'Time of Applicability(s)' : pd.Series(np.array(almanac_numpy[3],dtype =np.float64)),\n",
    "         'Orbital Inclination(rad)' : pd.Series(np.array(almanac_numpy[4],dtype =np.float64)),\n",
    "         'Rate of Right Ascen(r/s)': pd.Series(np.array(almanac_numpy[5],dtype =np.float64)),\n",
    "         'SQRT(A) (m 1/2)' : pd.Series(np.array(almanac_numpy[6],dtype =np.float64)),\n",
    "         'Right Ascen at Week(rad)':pd.Series(np.array(almanac_numpy[7],dtype =np.float64)),\n",
    "         'Argument of Perigee(rad)' : pd.Series(np.array(almanac_numpy[8],dtype =np.float64)),\n",
    "         'Mean Anom(rad)' : pd.Series(np.array(almanac_numpy[9],dtype =np.float64)),\n",
    "         'Af0(s)' :pd.Series(np.array(almanac_numpy[10],dtype =np.float64)),\n",
    "         'Af1(s/s)' :pd.Series(np.array(almanac_numpy[11],dtype =np.float64)),\n",
    "         'week':pd.Series(np.array(almanac_numpy[12],dtype =np.float64))}\n",
    "    df1 = pd.DataFrame(a)\n",
    "    return df1\n",
    "read_yuma (almanac_file)\n",
    "\n",
    "def date2gpstime(date1):\n",
    "    dif_of_days = datetime.date.toordinal(datetime.date(date1[0],date1[1],date1[2])) - datetime.date.toordinal(datetime.date(2019,4,7))\n",
    "    weeks = dif_of_days //7\n",
    "    day_of_week = dif_of_days - weeks*7\n",
    "    \n",
    "    tow = day_of_week*86400 + date1[3]*3600 + date1[4]*60 + + date1[5]\n",
    "    return [weeks,tow]\n",
    "  "
   ]
  }
 ],
 "metadata": {
  "kernelspec": {
   "display_name": "Python 3 (ipykernel)",
   "language": "python",
   "name": "python3"
  },
  "language_info": {
   "codemirror_mode": {
    "name": "ipython",
    "version": 3
   },
   "file_extension": ".py",
   "mimetype": "text/x-python",
   "name": "python",
   "nbconvert_exporter": "python",
   "pygments_lexer": "ipython3",
   "version": "3.8.5"
  }
 },
 "nbformat": 4,
 "nbformat_minor": 4
}
